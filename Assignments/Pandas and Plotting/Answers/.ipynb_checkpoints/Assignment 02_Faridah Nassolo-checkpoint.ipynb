{
 "cells": [
  {
   "cell_type": "markdown",
   "metadata": {},
   "source": [
    "## Numpy Assignment 2\n",
    "\n",
    "- Student Name:  Faridah Nassolo\n",
    "- Student RegNo: 2021/HD07/3240U\n",
    "\n",
    "### Instructions\n",
    "- Please answer the exercises to the best of your knowledge.\n",
    "- The assignment is out of 10 marks and will contribute partially to your final result."
   ]
  },
  {
   "cell_type": "code",
   "execution_count": 2,
   "metadata": {},
   "outputs": [],
   "source": [
    "import numpy as np\n",
    "import pandas as pd\n",
    "import seaborn as sns\n",
    "titanic = sns.load_dataset('titanic')"
   ]
  },
  {
   "cell_type": "code",
   "execution_count": 3,
   "metadata": {},
   "outputs": [],
   "source": [
    "\n",
    "#A function that creates a random dataset\n",
    "# with numerical and categorical features\n",
    "def create_dataset(n_samples, n_features, n_classes):\n",
    "    #set the seed\n",
    "    np.random.seed(42)\n",
    "    X = np.random.randn(n_samples, n_features)\n",
    "    y = np.random.randint(0, n_classes, n_samples)\n",
    "    #combing the numerical and categorical features\n",
    "    z = np.hstack((X, y.reshape(-1, 1)))\n",
    "    # add random column names to the dataset\n",
    "    z = pd.DataFrame(z, columns=['col' + str(i) for i in range(n_features + 1)])\n",
    "    # add a column with random strings combinations\n",
    "    z['string'] = np.random.choice(['a', 'b', 'c', 'd', 'e', 'f', 'g', 'h', 'i', 'j', 'k', 'l', 'm', 'n', 'o', 'p', 'q', 'r', 's', 't', 'u', 'v', 'w', 'x', 'y', 'z'], n_samples)\n",
    "    # return the dataset\n",
    "    return z"
   ]
  },
  {
   "cell_type": "code",
   "execution_count": null,
   "metadata": {},
   "outputs": [],
   "source": [
    "#use the function above to create a dataframe.\n",
    "df = create_dataset(50,5,2)\n",
    "Mydataframe = pd.DataFrame(df) # pd.DataFrame creates a dataframe\n",
    "Mydataframe"
   ]
  },
  {
   "cell_type": "code",
   "execution_count": 5,
   "metadata": {},
   "outputs": [
    {
     "data": {
      "text/plain": [
       "(50, 7)"
      ]
     },
     "execution_count": 5,
     "metadata": {},
     "output_type": "execute_result"
    }
   ],
   "source": [
    "#check the dimensions of the data\n",
    "Mydataframe = df.shape # returns the number of rows and columns of a dataframe\n",
    "Mydataframe\n"
   ]
  },
  {
   "cell_type": "code",
   "execution_count": null,
   "metadata": {},
   "outputs": [],
   "source": [
    "#display the first few rows\n",
    "\n",
    "Mydataframe = df.head() # returns the first few rows of the dataframe\n",
    "Mydataframe"
   ]
  },
  {
   "cell_type": "code",
   "execution_count": null,
   "metadata": {},
   "outputs": [],
   "source": [
    "# slice the first two columns and first two rows from the dataset\n",
    "\n",
    "NewDf = df.iloc[0:2, 0:2] # iloc method [row slicing, column slicing] for integer based slicing \n",
    "NewDf"
   ]
  },
  {
   "cell_type": "code",
   "execution_count": null,
   "metadata": {},
   "outputs": [],
   "source": [
    "# slice the last two columns and and las two rows from the dataset\n",
    "\n",
    "df  #returns entire dataset\n",
    "NewDf = df.iloc[48:50, 5:7] # iloc method for integer based slicing\n",
    "NewDf"
   ]
  },
  {
   "cell_type": "code",
   "execution_count": null,
   "metadata": {},
   "outputs": [],
   "source": [
    "# check the column data types in the dataset\n",
    "\n",
    "ColumnType = df.dtypes # dtypes returns a series with a data type of each column\n",
    "ColumnType"
   ]
  },
  {
   "cell_type": "code",
   "execution_count": null,
   "metadata": {},
   "outputs": [],
   "source": [
    "# use the describe function to display the stats of the data.\n",
    "\n",
    "df.describe() #generates descriptive statistics  pertaining to the DataFrame\n"
   ]
  },
  {
   "cell_type": "code",
   "execution_count": null,
   "metadata": {},
   "outputs": [],
   "source": [
    "# calculate the sums of the data by row\n",
    "\n",
    "ByRow = df.sum(axis = 1) # sum() function and set the axis value as 1 to add the row values.\n",
    "ByRow"
   ]
  },
  {
   "cell_type": "code",
   "execution_count": null,
   "metadata": {},
   "outputs": [],
   "source": [
    "# calculate the sums of the data by column\n",
    "\n",
    "ByColumn = df.sum(axis = 0,numeric_only=True) #sum() function and set the axis value as 0 to add the column values\n",
    "                                                #set parameter numeric_only=True \n",
    "ByColumn"
   ]
  },
  {
   "cell_type": "code",
   "execution_count": null,
   "metadata": {},
   "outputs": [],
   "source": [
    "# create a new column by combining two random columns in the data through - addition, or multiplication\n",
    "# call the column: new_col\n",
    "df[\"new_col\"] = df[\"col0\"] + df[\"col5\"] # create a new column using addition\n",
    "df[\"new_col\"]\n"
   ]
  },
  {
   "cell_type": "code",
   "execution_count": null,
   "metadata": {},
   "outputs": [],
   "source": [
    "# create two random datasets from the function above and use the merge function to combine them\n",
    "# name the two dataframes appropriately\n",
    "dfa = create_dataset(10,3,2) #dataset1 \n",
    "DataFramea = pd.DataFrame(dfa)\n",
    "DataFramea\n",
    "\n",
    "dfb = create_dataset(10,3,2) #dataset2\n",
    "DataFrameb = pd.DataFrame(dfb)\n",
    "DataFrameb\n",
    "\n",
    "DataFramec = pd.merge(DataFramea, DataFrameb, on='string') #merge the datasets  #explicitly specify the name of the key column using the  'on 'keyword\n",
    "DataFramec"
   ]
  },
  {
   "cell_type": "code",
   "execution_count": 28,
   "metadata": {},
   "outputs": [],
   "source": [
    "#create three random datasets and concatenate them to form one result df z\n",
    "\n",
    "def make_df(cols, ind): #function to create a df  #referenced from [Python Data Science Handbook](http://shop.oreilly.com/product/0636920034919.do)\n",
    "    \"\"\"Quickly make a DataFrame\"\"\"\n",
    "    data = {c: [str(c) + str(i) for i in ind]\n",
    "            for c in cols}\n",
    "    return pd.DataFrame(data, ind)\n",
    "\n"
   ]
  },
  {
   "cell_type": "code",
   "execution_count": 29,
   "metadata": {},
   "outputs": [],
   "source": [
    "class display(object): #function to display objects  #referenced from [Python Data Science Handbook](http://shop.oreilly.com/product/0636920034919.do)\n",
    "    \"\"\"Display HTML representation of multiple objects\"\"\"\n",
    "    template = \"\"\"<div style=\"float: left; padding: 10px;\">\n",
    "    <p style='font-family:\"Courier New\", Courier, monospace'>{0}</p>{1}\n",
    "    </div>\"\"\"\n",
    "    def __init__(self, *args):\n",
    "        self.args = args\n",
    "        \n",
    "    def _repr_html_(self):\n",
    "        return '\\n'.join(self.template.format(a, eval(a)._repr_html_())\n",
    "                         for a in self.args)\n",
    "    \n",
    "    def __repr__(self):\n",
    "        return '\\n\\n'.join(a + '\\n' + repr(eval(a))\n",
    "                           for a in self.args)"
   ]
  },
  {
   "cell_type": "code",
   "execution_count": null,
   "metadata": {},
   "outputs": [],
   "source": [
    "df1 = make_df('MN',[1,2]) #dataset1 \n",
    "df2 = make_df('MN',[3,4]) #dataset2\n",
    "df3 = make_df('MN',[5,6]) #dataset3\n",
    "\n",
    "dfz = display('df1','df2','df3',\"pd.concat([df1,df2,df3], axis = 0)\") #concatenate the datasets\n",
    "                                                                      #By default,concatenation takes place row-wise within the DataFrame (i.e., axis=0)\n",
    "dfz"
   ]
  },
  {
   "cell_type": "code",
   "execution_count": null,
   "metadata": {},
   "outputs": [],
   "source": [
    "# create two datasets and join them based on one common variable\n",
    "df1 = pd.DataFrame({'fruit': ['Apple', 'Pear', 'Peach'],\n",
    "                    'colour': ['Green', 'Yellow', 'Orange']})\n",
    "df2 = pd.DataFrame({'fruit': ['Apple', 'Pear', 'Peach'],\n",
    "                    'number': [10, 3, 7]})\n",
    "display('df1', 'df2', \"pd.merge(df1, df2, on='fruit')\") # use pd.merge to join the datasets \n",
    "                                                        #explicitly specify the name of the key column using the 'on 'keyword\n"
   ]
  },
  {
   "cell_type": "code",
   "execution_count": null,
   "metadata": {},
   "outputs": [],
   "source": [
    "# create a dataset called p and groupby the string column and calculate sums\n",
    "\n",
    "p = create_dataset(4,2,2) # created dataset using the initially defined function\n",
    "\n",
    "p.groupby('string').sum() #groupby operation splits the object,applies the function and combines the results"
   ]
  },
  {
   "cell_type": "code",
   "execution_count": null,
   "metadata": {},
   "outputs": [],
   "source": [
    "# create a dataframe called h and use iloc to slice the columns 3-5 and rows 3-4\n",
    "h = df.iloc[3:4, 3:5] #iloc method of slicing is integer based\n",
    "h                       #.iloc takes slices based on index’s position, behaves like regular Python slicing. "
   ]
  },
  {
   "cell_type": "code",
   "execution_count": null,
   "metadata": {},
   "outputs": [],
   "source": [
    "# can you use the same dataset h but use loc function to slice the data?\n",
    "# please leave your explanation if not.\n",
    "\n",
    "h = df.loc[3:4, 3:5] #returns an error\n",
    "\n",
    " #this is because loc is primarily labed based.\n",
    " #it takes indexes as the argument e.g you can pass strings such as; column names as an argument \n"
   ]
  },
  {
   "cell_type": "code",
   "execution_count": null,
   "metadata": {},
   "outputs": [],
   "source": [
    "titanic.head()"
   ]
  },
  {
   "cell_type": "code",
   "execution_count": null,
   "metadata": {},
   "outputs": [],
   "source": [
    "# please group the dataset titanic by sex and calculate the average age\n",
    "\n",
    "GroupedBySex = titanic.groupby('sex')[\"age\"].mean() #groupby\n",
    "GroupedBySex"
   ]
  },
  {
   "cell_type": "code",
   "execution_count": null,
   "metadata": {},
   "outputs": [],
   "source": [
    "# what is the average age of women that died in that titanic?\n",
    "df = titanic\n",
    "\n",
    "MyDataSet = df[df[\"sex\"]==\"female\"] #only female data appear\n",
    "MyDataSet\n",
    "\n",
    "# to find number of women that died\n",
    "# MyDataSet[df[\"alive\"]]\n",
    "\n"
   ]
  },
  {
   "cell_type": "code",
   "execution_count": null,
   "metadata": {},
   "outputs": [],
   "source": [
    "# how many of the people who embarked in Southampton were male and died?\n",
    " \n",
    "EmbarkSouthampton = df[df[\"embark_town\"]==\"Southampton\"] # all people who embarked in Southampton\n",
    "EmbarkSouthampton\n",
    "\n",
    "x = EmbarkSouthampton[df[\"sex\"]==\"male\"] # all males that embarked in Southampton\n",
    "x\n",
    "\n",
    " # to find those that died\n",
    " # x[df[\"alive\"]] \n"
   ]
  },
  {
   "cell_type": "code",
   "execution_count": null,
   "metadata": {},
   "outputs": [],
   "source": [
    "# what is the average fare of a man in First Class\n",
    "\n",
    "df = titanic  # dataset\n",
    "df\n",
    "\n",
    "z = df[df[\"sex\"]==\"male\"] #only male data appear\n",
    "z\n",
    "\n",
    "AverageClassFares = z.groupby('class')[\"fare\"].mean() #average fare of all classes used by men\n",
    "AverageClassFares\n",
    "\n",
    "FirstClassAv = AverageClassFares['First']  #average fare of a man in First Class\n",
    "FirstClassAv"
   ]
  },
  {
   "cell_type": "code",
   "execution_count": 80,
   "metadata": {},
   "outputs": [],
   "source": [
    "# drop all the indexes of those people and create a new df called aliveTitanic\n"
   ]
  },
  {
   "cell_type": "code",
   "execution_count": null,
   "metadata": {},
   "outputs": [],
   "source": [
    "# how many were not adult males?\n",
    "df = titanic  # dataset\n",
    "df\n",
    "\n",
    "z = df[df[\"sex\"]==\"male\"] #only male data appear\n",
    "z\n",
    "\n",
    "NotAdultMales = z[df[\"who\"]==\"child\"] #not adult males\n",
    "NotAdultMales\n",
    "\n",
    "Y = NotAdultMales.sum(axis = 0,numeric_only=True) #to add column values use  sum() function and axis = 0\n",
    "Y"
   ]
  }
 ],
 "metadata": {
  "kernelspec": {
   "display_name": "Python 3",
   "language": "python",
   "name": "python3"
  },
  "language_info": {
   "codemirror_mode": {
    "name": "ipython",
    "version": 3
   },
   "file_extension": ".py",
   "mimetype": "text/x-python",
   "name": "python",
   "nbconvert_exporter": "python",
   "pygments_lexer": "ipython3",
   "version": "3.8.5"
  },
  "vscode": {
   "interpreter": {
    "hash": "030d6e10016b718db44b0a90e26e7174ca3e5f96f624d0a2bcfb8ef8652a2f21"
   }
  }
 },
 "nbformat": 4,
 "nbformat_minor": 4
}
